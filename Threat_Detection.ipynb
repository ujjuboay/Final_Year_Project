{
  "nbformat": 4,
  "nbformat_minor": 0,
  "metadata": {
    "colab": {
      "name": "Threat Detection.ipynb",
      "provenance": [],
      "collapsed_sections": []
    },
    "kernelspec": {
      "name": "python3",
      "display_name": "Python 3"
    }
  },
  "cells": [
    {
      "cell_type": "code",
      "metadata": {
        "id": "qcKNJND0kb0u",
        "colab": {
          "base_uri": "https://localhost:8080/"
        },
        "outputId": "bf6567ff-f10f-4d9e-bb5f-33d04da29b0a"
      },
      "source": [
        "from google.colab import drive\n",
        "drive.mount('/content/drive', force_remount=True)\n"
      ],
      "execution_count": null,
      "outputs": [
        {
          "output_type": "stream",
          "text": [
            "Mounted at /content/drive\n"
          ],
          "name": "stdout"
        }
      ]
    },
    {
      "cell_type": "code",
      "metadata": {
        "id": "iNqOW3f2iSvi",
        "colab": {
          "base_uri": "https://localhost:8080/"
        },
        "outputId": "499c1284-ece7-44d5-f9a9-5bbe1aec549c"
      },
      "source": [
        "import pandas as pd \n",
        "import numpy as np\n",
        "import re\n",
        "import string\n",
        "import matplotlib.pyplot as plt\n",
        "import pickle\n",
        "import nltk\n",
        "nltk.download('stopwords')\n",
        "nltk.download('punkt')\n",
        "from nltk.corpus import stopwords\n",
        "from nltk import word_tokenize\n",
        "from sklearn.model_selection import train_test_split\n",
        "from sklearn.feature_extraction.text import TfidfVectorizer\n",
        "from sklearn.ensemble import RandomForestClassifier\n",
        "from sklearn.tree import DecisionTreeClassifier\n",
        "from sklearn.pipeline import Pipeline\n",
        "from sklearn.metrics import accuracy_score\n",
        "from sklearn.neighbors import KNeighborsClassifier\n",
        "from sklearn.metrics import classification_report, confusion_matrix\n",
        "from sklearn.feature_selection import chi2"
      ],
      "execution_count": null,
      "outputs": [
        {
          "output_type": "stream",
          "text": [
            "[nltk_data] Downloading package stopwords to /root/nltk_data...\n",
            "[nltk_data]   Unzipping corpora/stopwords.zip.\n",
            "[nltk_data] Downloading package punkt to /root/nltk_data...\n",
            "[nltk_data]   Unzipping tokenizers/punkt.zip.\n"
          ],
          "name": "stdout"
        }
      ]
    },
    {
      "cell_type": "code",
      "metadata": {
        "id": "V-wACE90IKoT",
        "colab": {
          "base_uri": "https://localhost:8080/"
        },
        "outputId": "67a68e39-33e2-44be-d5d3-d23ebf3f4c58"
      },
      "source": [
        "data1 = pd.read_csv(\"drive/MyDrive/Final_Project/merged_final1.csv\", encoding='latin-1') \n",
        "data = data1.sample(frac=1) #to shuffle data\n",
        "print(data)"
      ],
      "execution_count": null,
      "outputs": [
        {
          "output_type": "stream",
          "text": [
            "                                                Comments  Frequency\n",
            "22653  Prepare planting holes well, adding plenty of ...         50\n",
            "11135                He.ll make your life a living hell.         50\n",
            "33017  Was there one of them in particular you think ...        100\n",
            "34788                                            Do both          0\n",
            "18005  War was declared against Austria (1716); the f...         50\n",
            "...                                                  ...        ...\n",
            "25175  in.; the test strain required for the iron wir...        100\n",
            "24716                                  endure suffering.        100\n",
            "407    There was a gentle air around the woman, and h...          0\n",
            "9252   One of the best ways to assure children rememb...         50\n",
            "28724  Under the command of the lord of Lumbres, the ...        100\n",
            "\n",
            "[35523 rows x 2 columns]\n"
          ],
          "name": "stdout"
        }
      ]
    },
    {
      "cell_type": "code",
      "metadata": {
        "id": "1fu2oH0oDSNs",
        "colab": {
          "base_uri": "https://localhost:8080/"
        },
        "outputId": "d3db388e-1764-4745-cc26-2399994deebb"
      },
      "source": [
        "# removing everything except alphabets`\n",
        "data['Comments'] = data['Comments'].str.replace(\"[^a-zA-Z#]\", \" \")\n",
        "\n",
        "#converting to string\n",
        "data['Comments'] = data['Comments'].apply(str)\n",
        "\n",
        "# removing short words\n",
        "data['Comments'] = data['Comments'].apply(lambda x: ' '.join([w for w in x.split() if len(w)>2]))\n",
        "\n",
        "# make all text lowercase\n",
        "data['Comments'] = data['Comments'].apply(lambda x: x.lower())\n",
        "\n",
        "data['Comments']"
      ],
      "execution_count": null,
      "outputs": [
        {
          "output_type": "execute_result",
          "data": {
            "text/plain": [
              "22653    prepare planting holes well adding plenty orga...\n",
              "11135                           make your life living hell\n",
              "33017    was there one them particular you think might ...\n",
              "34788                                                 both\n",
              "18005    war was declared against austria the fleet sai...\n",
              "                               ...                        \n",
              "25175    the test strain required for the iron wire abo...\n",
              "24716                                     endure suffering\n",
              "407      there was gentle air around the woman and her ...\n",
              "9252     one the best ways assure children remember use...\n",
              "28724    under the command the lord lumbres the lord tr...\n",
              "Name: Comments, Length: 35523, dtype: object"
            ]
          },
          "metadata": {
            "tags": []
          },
          "execution_count": 4
        }
      ]
    },
    {
      "cell_type": "code",
      "metadata": {
        "id": "VDPLKHKUf6dT",
        "colab": {
          "base_uri": "https://localhost:8080/"
        },
        "outputId": "25e34f1a-2ef8-4cf8-c486-7db178439e54"
      },
      "source": [
        "\n",
        "stop_words = stopwords.words('english')\n",
        "\n",
        "# tokenization\n",
        "tokens = data['Comments'].apply(lambda x: x.split())\n",
        "\n",
        "# remove stop-words\n",
        "filtered_words = tokens.apply(lambda x: [item for item in x if item not in stop_words])\n",
        "\n",
        "print(filtered_words)\n",
        "data['Comments'] = [' '.join(sen) for sen in filtered_words]\n",
        "data['tokens'] = filtered_words\n",
        "#data['Comments']\n",
        "#data['tokens']\n",
        "#filtered_words"
      ],
      "execution_count": null,
      "outputs": [
        {
          "output_type": "stream",
          "text": [
            "22653    [prepare, planting, holes, well, adding, plent...\n",
            "11135                           [make, life, living, hell]\n",
            "33017    [one, particular, think, might, responsible, a...\n",
            "34788                                                   []\n",
            "18005    [war, declared, austria, fleet, sailed, corfu,...\n",
            "                               ...                        \n",
            "25175           [test, strain, required, iron, wire, tons]\n",
            "24716                                  [endure, suffering]\n",
            "407      [gentle, air, around, woman, large, brown, eye...\n",
            "9252     [one, best, ways, assure, children, remember, ...\n",
            "28724    [command, lord, lumbres, lord, treslong, willi...\n",
            "Name: Comments, Length: 35523, dtype: object\n"
          ],
          "name": "stdout"
        }
      ]
    },
    {
      "cell_type": "code",
      "metadata": {
        "id": "CbIdplvYSsMs",
        "colab": {
          "base_uri": "https://localhost:8080/"
        },
        "outputId": "2afe1d02-f197-49a6-da5c-c7812ab70f28"
      },
      "source": [
        "data.groupby('Frequency').size()\n"
      ],
      "execution_count": null,
      "outputs": [
        {
          "output_type": "execute_result",
          "data": {
            "text/plain": [
              "Frequency\n",
              "0      10205\n",
              "50     14417\n",
              "100    10901\n",
              "dtype: int64"
            ]
          },
          "metadata": {
            "tags": []
          },
          "execution_count": 6
        }
      ]
    },
    {
      "cell_type": "code",
      "metadata": {
        "id": "ho4UsR3ncCeN",
        "colab": {
          "base_uri": "https://localhost:8080/"
        },
        "outputId": "d0df2527-8047-48ea-d91e-c76d0c63c732"
      },
      "source": [
        "\n",
        "X = data.Comments\n",
        "y = data.Frequency\n",
        "print(X)"
      ],
      "execution_count": null,
      "outputs": [
        {
          "output_type": "stream",
          "text": [
            "22653    prepare planting holes well adding plenty orga...\n",
            "11135                                make life living hell\n",
            "33017    one particular think might responsible annie m...\n",
            "34788                                                     \n",
            "18005    war declared austria fleet sailed corfu army c...\n",
            "                               ...                        \n",
            "25175                  test strain required iron wire tons\n",
            "24716                                     endure suffering\n",
            "407      gentle air around woman large brown eyes lacke...\n",
            "9252     one best ways assure children remember use sea...\n",
            "28724    command lord lumbres lord treslong william mar...\n",
            "Name: Comments, Length: 35523, dtype: object\n"
          ],
          "name": "stdout"
        }
      ]
    },
    {
      "cell_type": "code",
      "metadata": {
        "id": "adwat7xQ7YbI",
        "colab": {
          "base_uri": "https://localhost:8080/"
        },
        "outputId": "4353cbf3-37b4-4941-c2af-1d229d72ba00"
      },
      "source": [
        "\n",
        "X_train, X_test, y_train, y_test = train_test_split(X, y, random_state = 42)\n",
        "\n",
        "print(X_train)"
      ],
      "execution_count": null,
      "outputs": [
        {
          "output_type": "stream",
          "text": [
            "5842                     hand may feel sense happiness awe\n",
            "17201    coalition maintained majority government obtai...\n",
            "12275                 lips found world ceased exist around\n",
            "20833    women crete pre christian days apparently time...\n",
            "15970    winterizing clematis complete without protecti...\n",
            "                               ...                        \n",
            "32045    another nice prom makeup expression draw eye l...\n",
            "33371                               key situations forgive\n",
            "29690    genetics lifestyle deepak chopra gary small sh...\n",
            "14698    sand driven wheel rail steam jet used starting...\n",
            "35498                                         please sleep\n",
            "Name: Comments, Length: 26642, dtype: object\n"
          ],
          "name": "stdout"
        }
      ]
    },
    {
      "cell_type": "code",
      "metadata": {
        "id": "tqQxV1fRcZKP",
        "colab": {
          "base_uri": "https://localhost:8080/"
        },
        "outputId": "9faf4307-1005-4238-b818-7c49f8be9ec3"
      },
      "source": [
        "print(\"Train set has total {0} entries with {1:.2f}% nonflagged, {2:.2f}% flagged, {3:.2f}% Highly flagged\".format(len(X_train),\n",
        "                                                                             (len(X_train[y_train == 0]) / (len(X_train)))*100,\n",
        "                                                                            (len(X_train[y_train == 50]) / (len(X_train)))*100,\n",
        "                                                                            (len(X_train[y_train == 100]) / (len(X_train)))*100))"
      ],
      "execution_count": null,
      "outputs": [
        {
          "output_type": "stream",
          "text": [
            "Train set has total 26642 entries with 28.63% nonflagged, 40.52% flagged, 30.85% Highly flagged\n"
          ],
          "name": "stdout"
        }
      ]
    },
    {
      "cell_type": "code",
      "metadata": {
        "id": "kWAdOIbNd1wr",
        "colab": {
          "base_uri": "https://localhost:8080/"
        },
        "outputId": "366600be-8a5c-46d1-a937-8ac23302a03d"
      },
      "source": [
        "\n",
        "print(\"Test set has total {0} entries with {1:.2f}% nonflagged, {2:.2f}% flagged, {3:.2f}% Highly flagged\".format(len(X_test),\n",
        "                                                                             (len(X_test[y_test == 0]) / (len(X_test)))*100,\n",
        "                                                                            (len(X_test[y_test == 50]) / (len(X_test)))*100,\n",
        "                                                                            (len(X_test[y_test == 100]) / (len(X_test)))*100))"
      ],
      "execution_count": null,
      "outputs": [
        {
          "output_type": "stream",
          "text": [
            "Test set has total 8881 entries with 29.03% nonflagged, 40.78% flagged, 30.19% Highly flagged\n"
          ],
          "name": "stdout"
        }
      ]
    },
    {
      "cell_type": "code",
      "metadata": {
        "id": "-OhP_AqCdSKR"
      },
      "source": [
        "def accuracy_summary(pipeline, X_train, y_train, X_test, y_test):\n",
        "    sentiment_fit = pipeline.fit(X_train, y_train)\n",
        "    y_pred = sentiment_fit.predict(X_test)\n",
        "    accuracy = accuracy_score(y_test, y_pred)\n",
        "    print(\"accuracy score: {0:.2f}%\".format(accuracy*100))\n",
        "    return accuracy"
      ],
      "execution_count": null,
      "outputs": []
    },
    {
      "cell_type": "code",
      "metadata": {
        "id": "QTxEmj3YdW9a"
      },
      "source": [
        "rf = RandomForestClassifier()\n",
        "n_features = np.arange(7104,35523,7104)\n",
        "\n",
        "def nfeature_accuracy_checker_rf(vectorizer, n_features=n_features, ngram_range=(1, 3), classifier=rf):\n",
        "    result = []\n",
        "    print(classifier)\n",
        "    print(\"\\n\")\n",
        "    for n in n_features:\n",
        "        vectorizer.set_params(stop_words=stop_words, max_features=n, ngram_range=ngram_range)\n",
        "        checker_pipeline = Pipeline([\n",
        "            ('vectorizer', vectorizer),\n",
        "            ('classifier', classifier)\n",
        "        ])\n",
        "        print(\"Test result for {} features\".format(n))\n",
        "        nfeature_accuracy = accuracy_summary(checker_pipeline, X_train, y_train, X_test, y_test)\n",
        "        result.append((n,nfeature_accuracy))\n",
        "    return result"
      ],
      "execution_count": null,
      "outputs": []
    },
    {
      "cell_type": "code",
      "metadata": {
        "id": "O63Vwmkjt8R_"
      },
      "source": [
        "clf = DecisionTreeClassifier()\n",
        "\n",
        "def nfeature_accuracy_checker_clf(vectorizer, n_features=n_features, ngram_range=(1, 3), classifier=clf):\n",
        "    result = []\n",
        "    print(classifier)\n",
        "    print(\"\\n\")\n",
        "    for n in n_features:\n",
        "        vectorizer.set_params(stop_words=stop_words, max_features=n, ngram_range=ngram_range)\n",
        "        checker_pipeline = Pipeline([\n",
        "            ('vectorizer', vectorizer),\n",
        "            ('classifier', classifier)\n",
        "        ])\n",
        "        print(\"Test result for {} features\".format(n))\n",
        "        nfeature_accuracy = accuracy_summary(checker_pipeline, X_train, y_train, X_test, y_test)\n",
        "        result.append((n,nfeature_accuracy))\n",
        "    return result"
      ],
      "execution_count": null,
      "outputs": []
    },
    {
      "cell_type": "code",
      "metadata": {
        "id": "DGvWLqYlHhn0"
      },
      "source": [
        "knn = KNeighborsClassifier(n_neighbors=5)\n",
        "\n",
        "def nfeature_accuracy_checker_knn(vectorizer, n_features=n_features, ngram_range=(1, 3), classifier=knn):\n",
        "    result = []\n",
        "    print(classifier)\n",
        "    print(\"\\n\")\n",
        "    for n in n_features:\n",
        "        vectorizer.set_params(stop_words=stop_words, max_features=n, ngram_range=ngram_range)\n",
        "        checker_pipeline = Pipeline([\n",
        "            ('vectorizer', vectorizer),\n",
        "            ('classifier', classifier)\n",
        "        ])\n",
        "        print(\"Test result for {} features\".format(n))\n",
        "        nfeature_accuracy = accuracy_summary(checker_pipeline, X_train, y_train, X_test, y_test)\n",
        "        result.append((n,nfeature_accuracy))\n",
        "    return result"
      ],
      "execution_count": null,
      "outputs": []
    },
    {
      "cell_type": "code",
      "metadata": {
        "id": "lDtX0wo4dwlK",
        "colab": {
          "base_uri": "https://localhost:8080/"
        },
        "outputId": "51762492-53f7-42f2-f814-fd468d1dc898"
      },
      "source": [
        "tfidf = TfidfVectorizer()\n",
        "print(\"Result for trigram with stop words (Tfidf)\\n\")\n",
        "feature_result_tgt_rf = nfeature_accuracy_checker_rf(vectorizer=tfidf,ngram_range=(1, 3))\n",
        "feature_result_tgt_clf = nfeature_accuracy_checker_clf(vectorizer=tfidf,ngram_range=(1, 3))\n",
        "feature_result_tgt_knn = nfeature_accuracy_checker_knn(vectorizer=tfidf,ngram_range=(1, 3))"
      ],
      "execution_count": null,
      "outputs": [
        {
          "output_type": "stream",
          "text": [
            "Result for trigram with stop words (Tfidf)\n",
            "\n",
            "RandomForestClassifier(bootstrap=True, ccp_alpha=0.0, class_weight=None,\n",
            "                       criterion='gini', max_depth=None, max_features='auto',\n",
            "                       max_leaf_nodes=None, max_samples=None,\n",
            "                       min_impurity_decrease=0.0, min_impurity_split=None,\n",
            "                       min_samples_leaf=1, min_samples_split=2,\n",
            "                       min_weight_fraction_leaf=0.0, n_estimators=100,\n",
            "                       n_jobs=None, oob_score=False, random_state=None,\n",
            "                       verbose=0, warm_start=False)\n",
            "\n",
            "\n",
            "Test result for 7104 features\n",
            "accuracy score: 94.85%\n",
            "Test result for 14208 features\n",
            "accuracy score: 94.98%\n",
            "Test result for 21312 features\n",
            "accuracy score: 94.98%\n",
            "Test result for 28416 features\n",
            "accuracy score: 94.89%\n",
            "Test result for 35520 features\n",
            "accuracy score: 95.03%\n",
            "DecisionTreeClassifier(ccp_alpha=0.0, class_weight=None, criterion='gini',\n",
            "                       max_depth=None, max_features=None, max_leaf_nodes=None,\n",
            "                       min_impurity_decrease=0.0, min_impurity_split=None,\n",
            "                       min_samples_leaf=1, min_samples_split=2,\n",
            "                       min_weight_fraction_leaf=0.0, presort='deprecated',\n",
            "                       random_state=None, splitter='best')\n",
            "\n",
            "\n",
            "Test result for 7104 features\n",
            "accuracy score: 93.33%\n",
            "Test result for 14208 features\n",
            "accuracy score: 93.29%\n",
            "Test result for 21312 features\n",
            "accuracy score: 93.42%\n",
            "Test result for 28416 features\n",
            "accuracy score: 93.64%\n",
            "Test result for 35520 features\n",
            "accuracy score: 93.50%\n",
            "KNeighborsClassifier(algorithm='auto', leaf_size=30, metric='minkowski',\n",
            "                     metric_params=None, n_jobs=None, n_neighbors=5, p=2,\n",
            "                     weights='uniform')\n",
            "\n",
            "\n",
            "Test result for 7104 features\n",
            "accuracy score: 44.95%\n",
            "Test result for 14208 features\n",
            "accuracy score: 42.72%\n",
            "Test result for 21312 features\n",
            "accuracy score: 43.41%\n",
            "Test result for 28416 features\n",
            "accuracy score: 42.46%\n",
            "Test result for 35520 features\n",
            "accuracy score: 42.83%\n"
          ],
          "name": "stdout"
        }
      ]
    },
    {
      "cell_type": "code",
      "metadata": {
        "id": "YXt0yH_U_XKd"
      },
      "source": [
        "tfidf = TfidfVectorizer()\n",
        "feature_result_tgt_clf = nfeature_accuracy_checker_clf(vectorizer=tfidf,ngram_range=(1, 3))\n",
        "\n"
      ],
      "execution_count": null,
      "outputs": []
    },
    {
      "cell_type": "code",
      "metadata": {
        "id": "nesaWIhEtCOU"
      },
      "source": [
        "tfidf = TfidfVectorizer()\n",
        "feature_result_tgt_knn = nfeature_accuracy_checker_knn(vectorizer=tfidf,ngram_range=(1, 3))"
      ],
      "execution_count": null,
      "outputs": []
    },
    {
      "cell_type": "code",
      "metadata": {
        "id": "M1xPJrsdGmE4",
        "colab": {
          "base_uri": "https://localhost:8080/"
        },
        "outputId": "43682053-5405-4f61-b990-d071b9915677"
      },
      "source": [
        "print(feature_result_tgt_rf)\n",
        "print(feature_result_tgt_clf)\n",
        "print(feature_result_tgt_knn)"
      ],
      "execution_count": null,
      "outputs": [
        {
          "output_type": "stream",
          "text": [
            "[(7104, 0.9485418308749015), (14208, 0.949780430131742), (21312, 0.949780430131742), (28416, 0.9488796306722216), (35520, 0.9503434297939422)]\n",
            "[(7104, 0.933340839995496), (14208, 0.9328904402657359), (21312, 0.9342416394550164), (28416, 0.9363810381713771), (35520, 0.9350298389820966)]\n",
            "[(7104, 0.4494989303006418), (14208, 0.4272041436775138), (21312, 0.4340727395563563), (28416, 0.42461434523139285), (35520, 0.4283301430019142)]\n"
          ],
          "name": "stdout"
        }
      ]
    },
    {
      "cell_type": "code",
      "metadata": {
        "id": "2KL8WwO2d1Jd"
      },
      "source": [
        "\n",
        "pipeline = Pipeline([\n",
        "        ('vectorizer', tfidf),\n",
        "        ('classifier', rf)\n",
        "    ])\n",
        "sentiment_fit = pipeline.fit(X_train, y_train)\n",
        "y_pred = sentiment_fit.predict(X_test)\n",
        "#print(X_test,y_test)\n",
        "#print(y_pred)\n",
        "\n",
        "print(classification_report(y_test, y_pred, target_names=['nonflagged','flagged','highly flagged']))\n",
        "\n",
        "\n"
      ],
      "execution_count": null,
      "outputs": []
    },
    {
      "cell_type": "code",
      "metadata": {
        "colab": {
          "base_uri": "https://localhost:8080/",
          "height": 573
        },
        "id": "mjdXRzLy9CUU",
        "outputId": "0cdc7e2b-7393-4063-9a8f-441a29005e92"
      },
      "source": [
        "from sklearn.metrics import plot_confusion_matrix\n",
        "\n",
        "# Plot non-normalized confusion matrix\n",
        "titles_options = [(\"Confusion matrix, without normalization\", 'd', None),\n",
        "                  (\"Normalized confusion matrix\", '.2f', 'true')]\n",
        "for title, values_format, normalize in titles_options:\n",
        "    disp = plot_confusion_matrix(sentiment_fit, X_test, y_test,\n",
        "                                 cmap=plt.cm.Blues,\n",
        "                                 values_format=values_format,\n",
        "                                 normalize=normalize)\n",
        "    disp.ax_.set_title(title)\n",
        "\n",
        "    #print(title)\n",
        "    #print(disp.confusion_matrix)\n",
        "\n",
        "plt.show()"
      ],
      "execution_count": null,
      "outputs": [
        {
          "output_type": "display_data",
          "data": {
            "image/png": "[encoded data removed]",
            "text/plain": [
              "<Figure size 432x288 with 2 Axes>"
            ]
          },
          "metadata": {
            "tags": [],
            "needs_background": "light"
          }
        },
        {
          "output_type": "display_data",
          "data": {
            "image/png": "[encoded data removed]",
            "text/plain": [
              "<Figure size 432x288 with 2 Axes>"
            ]
          },
          "metadata": {
            "tags": [],
            "needs_background": "light"
          }
        }
      ]
    },
    {
      "cell_type": "code",
      "metadata": {
        "id": "gEIxPxTIh2sE",
        "colab": {
          "base_uri": "https://localhost:8080/"
        },
        "outputId": "266ff4a0-5ac4-4810-8ec6-8928c6eabd72"
      },
      "source": [
        "\n",
        "tfidf = TfidfVectorizer(max_features=20000,ngram_range=(1, 3))\n",
        "X_tfidf = tfidf.fit_transform(data.Comments)\n",
        "y = data.Frequency\n",
        "chi2score = chi2(X_tfidf, y)[0]\n",
        "print(chi2score)"
      ],
      "execution_count": null,
      "outputs": [
        {
          "output_type": "stream",
          "text": [
            "[0.70354988 0.20360283 0.72586085 ... 1.83165355 1.78620511 0.45107118]\n"
          ],
          "name": "stdout"
        }
      ]
    },
    {
      "cell_type": "code",
      "metadata": {
        "id": "7Y4XU7xXlstR",
        "colab": {
          "base_uri": "https://localhost:8080/",
          "height": 503
        },
        "outputId": "4d1a7418-54ad-4fe8-bb13-37ece3a2d695"
      },
      "source": [
        "\n",
        "%matplotlib inline\n",
        "\n",
        "plt.figure(figsize=(12,8))\n",
        "scores = list(zip(tfidf.get_feature_names(), chi2score))\n",
        "chi2 = sorted(scores, key=lambda x:x[1])\n",
        "topchi2 = list(zip(*chi2[-25:-5]))\n",
        "x = range(len(topchi2[1]))\n",
        "labels = topchi2[0]\n",
        "plt.barh(x,topchi2[1], align='center', alpha=0.5)\n",
        "plt.plot(topchi2[1], x, '-o', markersize=5, alpha=0.8)\n",
        "plt.yticks(x, labels)\n",
        "plt.xlabel('$\\chi^2$')\n",
        "plt.show();"
      ],
      "execution_count": null,
      "outputs": [
        {
          "output_type": "display_data",
          "data": {
            "image/png": "[encoded data removed]",
            "text/plain": [
              "<Figure size 864x576 with 1 Axes>"
            ]
          },
          "metadata": {
            "tags": [],
            "needs_background": "light"
          }
        }
      ]
    },
    {
      "cell_type": "code",
      "metadata": {
        "id": "lO3_SnT0tifJ"
      },
      "source": [
        "with open('sent.pkl', 'wb') as pickle_out:\n",
        "     pickle.dump(sentiment_fit, pickle_out)"
      ],
      "execution_count": null,
      "outputs": []
    },
    {
      "cell_type": "code",
      "metadata": {
        "id": "3Y79BCqY3Itx"
      },
      "source": [
        "#with open('sent.pkl', 'rb') as pickle_in:\n",
        "   #  unpickled_sent = pickle.load(pickle_in)"
      ],
      "execution_count": null,
      "outputs": []
    },
    {
      "cell_type": "code",
      "metadata": {
        "id": "XoldMBuAlzWj"
      },
      "source": [
        "classes = ['Non-Flagged', 'Flagged', 'Highly-Flagged']\n",
        "y_new = []\n",
        "y_new1 = []\n",
        "y_new2 = []\n",
        "#text = ['You have too much ego of your face I will sue you'] #right\n",
        "#text = ['Fuck the shit, you bastard'] #right\n",
        "#text = ['hello'] #right\n",
        "#text = ['you bastard']  #right\n",
        "#text = ['Fuck you bastard']   #right\n",
        "#text = ['I have your nude pics']   #right\n",
        "#text = [\"I am begging leave me alone, don't upload my nudes\"] #wrong\n",
        "\n",
        "#text = ['hello, do you remember me', 'yes ofcourse, how can I forgot you', 'you are the one who had destroyed my life', 'You have too much ego of your face I will sue you', 'Fuck the shit, you bastard', 'hello', 'you bastard', 'I have your nude pics', 'I am begging leave me alone, don\\'t upload my nudes']\n",
        "#text = ['hello, do you remember me', 'yes ofcourse, how can I forgot you', 'you are the one who had destroyed my life', 'srry about that but still i love you', 'ohh silly, just shut you mouth', 'really I love you ', 'just fuck off', 'leaving you was the biggest mistake of my life', 'yes, you had made that mistake', 'srry about that', 'now you have to face it']\n",
        "text = ['hello', 'how are you', 'i am fine and you?', 'I am also fine', 'what are you doing nowadays', 'i am working in a mnc as a software engineer', 'what about you, you were thinking of some startup', 'yeah, I am workinng on it and it will be ready by next month', 'ohh good to see that, all the best for it', 'thanks mate, let\\'s hope for the best']\n",
        "#y_prob = sentiment_fit.predict(text)\n",
        "#print(y_prob)\n",
        "  "
      ],
      "execution_count": null,
      "outputs": []
    },
    {
      "cell_type": "code",
      "metadata": {
        "id": "dYaNZeytxXcj"
      },
      "source": [
        "for i in text:\n",
        "  y_prob =sentiment_fit.predict([i])\n",
        "  y_prob1 =sentiment_fit1.predict([i])\n",
        "  y_prob2 =sentiment_fit2.predict([i])\n",
        "  y_new.append(y_prob)\n",
        "  y_new1.append(y_prob1)\n",
        "  y_new2.append(y_prob2)\n",
        "\n",
        "print(y_new)\n",
        "avg = sum(y_new)/len(y_new)\n",
        "print(avg)\n",
        "if (avg > 50):\n",
        "  print(\"Malicious activity detected\")\n",
        "else:\n",
        "  print(\"No Malicious activity detected\")\n",
        "\n",
        "print(y_new1)\n",
        "avg1 = sum(y_new1)/len(y_new1)\n",
        "print(avg1)\n",
        "if (avg1 > 50):\n",
        "  print(\"Malicious activity detected\")\n",
        "else:\n",
        "  print(\"No Malicious activity detected\")\n",
        "\n",
        "print(y_new2)\n",
        "avg2 = sum(y_new2)/len(y_new2)\n",
        "print(avg2)\n",
        "if (avg2 > 50):\n",
        "  print(\"Malicious activity detected\")\n",
        "else:\n",
        "  print(\"No Malicious activity detected\")"
      ],
      "execution_count": null,
      "outputs": []
    },
    {
      "cell_type": "code",
      "metadata": {
        "id": "BblInuRkmF_a"
      },
      "source": [
        ""
      ],
      "execution_count": null,
      "outputs": []
    }
  ]
}